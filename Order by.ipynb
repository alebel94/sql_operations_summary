{
 "cells": [
  {
   "cell_type": "markdown",
   "metadata": {},
   "source": [
    "# SQL Series: Query using Order by\n",
    "# by Alejandro Beltran\n"
   ]
  },
  {
   "cell_type": "markdown",
   "metadata": {},
   "source": [
    "### Initiation"
   ]
  },
  {
   "cell_type": "code",
   "execution_count": 2,
   "metadata": {},
   "outputs": [],
   "source": [
    "# Load SQL extension using magic functions\n",
    "%load_ext sql"
   ]
  },
  {
   "cell_type": "code",
   "execution_count": 4,
   "metadata": {},
   "outputs": [],
   "source": [
    "# Connect to database here.\n",
    "from dblogin import postgresql_sql_operations_summary, postgresql_dvd_rentals\n",
    "        \n",
    "%sql $postgresql_sql_operations_summary \n",
    "%sql $postgresql_dvd_rentals"
   ]
  },
  {
   "cell_type": "markdown",
   "metadata": {},
   "source": [
    "## Intermediate Queries\n",
    "## Material in this sheet: \n",
    "\n",
    "<br>\n",
    "\n",
    "### Specify the column you want after the word SELECT\n",
    "### Specify the table after the word FROM.\n",
    "### Specify rows meeting a condition after word WHERE\n",
    "### Using comparison operators in queries"
   ]
  },
  {
   "cell_type": "code",
   "execution_count": null,
   "metadata": {},
   "outputs": [],
   "source": [
    "### ORDER BY"
   ]
  },
  {
   "cell_type": "code",
   "execution_count": null,
   "metadata": {},
   "outputs": [],
   "source": [
    "%%sql result << \n",
    "\n",
    "SELECT customer_id, amount\n",
    "FROM payment\n",
    "WHERE amount >= 2.00\n",
    "ORDER BY amount ASC;"
   ]
  },
  {
   "cell_type": "code",
   "execution_count": null,
   "metadata": {},
   "outputs": [],
   "source": [
    "# Query for data that shows customers who paid\n",
    "# an amount GREATER than or EQUAL to $2.00\n",
    "# Doing so in Ascending order (ASC)\n",
    "\n",
    "result"
   ]
  },
  {
   "cell_type": "code",
   "execution_count": null,
   "metadata": {},
   "outputs": [],
   "source": [
    "%%sql result << \n",
    "\n",
    "SELECT customer_id, amount\n",
    "FROM payment\n",
    "WHERE amount <> 0.00\n",
    "ORDER BY amount DESC;"
   ]
  },
  {
   "cell_type": "code",
   "execution_count": null,
   "metadata": {},
   "outputs": [],
   "source": [
    "# Query for data that shows customers who paid an amount NOT EQUAL to $0.00\n",
    "# order the result IN DESCENDING order\n",
    "\n",
    "result"
   ]
  },
  {
   "cell_type": "code",
   "execution_count": null,
   "metadata": {},
   "outputs": [],
   "source": [
    "%%sql result << \n"
   ]
  },
  {
   "cell_type": "code",
   "execution_count": null,
   "metadata": {},
   "outputs": [],
   "source": [
    "result"
   ]
  }
 ],
 "metadata": {
  "kernelspec": {
   "display_name": "Python 3",
   "language": "python",
   "name": "python3"
  },
  "language_info": {
   "codemirror_mode": {
    "name": "ipython",
    "version": 3
   },
   "file_extension": ".py",
   "mimetype": "text/x-python",
   "name": "python",
   "nbconvert_exporter": "python",
   "pygments_lexer": "ipython3",
   "version": "3.8.5"
  }
 },
 "nbformat": 4,
 "nbformat_minor": 4
}
